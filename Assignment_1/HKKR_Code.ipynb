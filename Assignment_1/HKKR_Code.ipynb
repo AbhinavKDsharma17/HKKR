{
 "cells": [
  {
   "cell_type": "code",
   "execution_count": 1,
   "id": "aa883d92",
   "metadata": {},
   "outputs": [
    {
     "name": "stdout",
     "output_type": "stream",
     "text": [
      "Average of first 30 minutes: 423.9583333333333\n",
      "30% increase threshold: 551.1458333333334\n",
      "Peaks noted (time and price):\n",
      "2024-09-06 09:47:00 - 560.85\n",
      "2024-09-06 09:49:00 - 554.55\n",
      "2024-09-06 09:52:00 - 574.4\n",
      "2024-09-06 09:54:00 - 574.5\n",
      "\n",
      "Sell signals (type, from peak time, signal time, target price):\n",
      "From 2024-09-06 09:47:00 - 20% drop at 2024-09-06 10:27:00 when price reached 448.68000000000006\n",
      "From 2024-09-06 09:47:00 - 70 points drop at 2024-09-06 10:03:00 when price reached 490.85\n",
      "From 2024-09-06 09:49:00 - 20% drop at 2024-09-06 10:27:00 when price reached 443.64\n",
      "From 2024-09-06 09:49:00 - 70 points drop at 2024-09-06 10:04:00 when price reached 484.54999999999995\n",
      "From 2024-09-06 09:52:00 - 20% drop at 2024-09-06 10:25:00 when price reached 459.52\n",
      "From 2024-09-06 09:52:00 - 70 points drop at 2024-09-06 10:02:00 when price reached 504.4\n",
      "From 2024-09-06 09:54:00 - 20% drop at 2024-09-06 10:25:00 when price reached 459.6\n",
      "From 2024-09-06 09:54:00 - 70 points drop at 2024-09-06 10:02:00 when price reached 504.5\n"
     ]
    }
   ],
   "source": [
    "import pandas as pd\n",
    "\n",
    "def load_and_prepare_data(filepath):\n",
    "    data = pd.read_csv(filepath)\n",
    "    data['category'] = pd.to_datetime(data['category'].str.strip(), format='%a %b %d %Y %H%M')\n",
    "    return data\n",
    "\n",
    "def calculate_initial_average(data):\n",
    "    first_30_min = data[data['category'] < data['category'].min() + pd.Timedelta(minutes=30)]\n",
    "    return first_30_min['Straddle Price'].mean()\n",
    "\n",
    "def find_threshold_and_peaks(data, average):\n",
    "    threshold_30 = 1.3 * average\n",
    "    above_threshold = data[data['Straddle Price'] >= threshold_30]\n",
    "    peaks = above_threshold[(above_threshold['Straddle Price'] > above_threshold['Straddle Price'].shift(1)) & \n",
    "                            (above_threshold['Straddle Price'] > above_threshold['Straddle Price'].shift(-1))]\n",
    "    return threshold_30, peaks\n",
    "\n",
    "def generate_sell_signals(data, peaks):\n",
    "    sell_signals = []\n",
    "    for _, peak in peaks.iterrows():\n",
    "        sell_price_20 = peak['Straddle Price'] * 0.8\n",
    "        sell_price_70 = peak['Straddle Price'] - 70\n",
    "        post_peak_data = data[data['category'] > peak['category']]\n",
    "        signal_20 = post_peak_data[post_peak_data['Straddle Price'] <= sell_price_20].head(1)\n",
    "        signal_70 = post_peak_data[post_peak_data['Straddle Price'] <= sell_price_70].head(1)\n",
    "        if not signal_20.empty:\n",
    "            sell_signals.append((peak['category'], '20% drop', signal_20.iloc[0]['category'], sell_price_20))\n",
    "        if not signal_70.empty:\n",
    "            sell_signals.append((peak['category'], '70 points drop', signal_70.iloc[0]['category'], sell_price_70))\n",
    "    return sell_signals\n",
    "\n",
    "def main(filepath):\n",
    "    data = load_and_prepare_data(filepath)\n",
    "    average_first_30 = calculate_initial_average(data)\n",
    "    threshold_30, peaks = find_threshold_and_peaks(data, average_first_30)\n",
    "    sell_signals = generate_sell_signals(data, peaks)\n",
    "    \n",
    "    print(f\"Average of first 30 minutes: {average_first_30}\")\n",
    "    print(f\"30% increase threshold: {threshold_30}\")\n",
    "    print(\"Peaks noted (time and price):\")\n",
    "    for index, row in peaks.iterrows():\n",
    "        print(f\"{row['category']} - {row['Straddle Price']}\")\n",
    "    print(\"\\nSell signals (type, from peak time, signal time, target price):\")\n",
    "    for signal in sell_signals:\n",
    "        print(f\"From {signal[0]} - {signal[1]} at {signal[2]} when price reached {signal[3]}\")\n",
    "\n",
    "if __name__ == \"__main__\":\n",
    "    main('SENSEX.csv')\n"
   ]
  }
 ],
 "metadata": {
  "kernelspec": {
   "display_name": "Python 3 (ipykernel)",
   "language": "python",
   "name": "python3"
  },
  "language_info": {
   "codemirror_mode": {
    "name": "ipython",
    "version": 3
   },
   "file_extension": ".py",
   "mimetype": "text/x-python",
   "name": "python",
   "nbconvert_exporter": "python",
   "pygments_lexer": "ipython3",
   "version": "3.10.13"
  }
 },
 "nbformat": 4,
 "nbformat_minor": 5
}
