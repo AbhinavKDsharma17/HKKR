{
 "cells": [
  {
   "cell_type": "code",
   "execution_count": 12,
   "id": "99f8115f",
   "metadata": {},
   "outputs": [
    {
     "name": "stdout",
     "output_type": "stream",
     "text": [
      "Enter the starting date (YYYY-MM-DD): 2023-04-03\n",
      "Enter the ending date (YYYY-MM-DD): 2023-04-30\n",
      "Enter the segment (e.g., BFO/NFO/MCX): MCX\n",
      "Enter the index (e.g., CRUDEOIL, GOLD): CRUDEOIL\n"
     ]
    }
   ],
   "source": [
    "import glob\n",
    "import pandas as pd\n",
    "\n",
    "def filter_and_validate_dates(file_pattern, starting_date, ending_date, segment, index):\n",
    "    # Loading all CSV files matching the pattern\n",
    "    csv_files = glob.glob(file_pattern)\n",
    "    dataframes = []\n",
    "    for file in csv_files:\n",
    "        try:\n",
    "            df = pd.read_csv(file)\n",
    "            df.rename(columns={\"Date\": \"date\"}, inplace=True)\n",
    "            df['date'] = pd.to_datetime(df['date'], format=\"%d/%m/%Y\").dt.strftime(\"%Y-%m-%d\")\n",
    "            dataframes.append(df)\n",
    "        except Exception as e:\n",
    "            print(f\"Error processing file {file}: {e}\")\n",
    "\n",
    "    # Combining all dataframes into one\n",
    "    combined_df = pd.concat(dataframes, ignore_index=True)\n",
    "    combined_df['date'] = pd.to_datetime(combined_df['date'])\n",
    "\n",
    "    # Generating all dates in the range\n",
    "    all_dates = pd.date_range(start=starting_date, end=ending_date, freq='D')\n",
    "\n",
    "    # Filtering data by date range and ticker\n",
    "    filtered_by_date_range = combined_df[(combined_df['date'] >= pd.to_datetime(starting_date)) & \n",
    "                                         (combined_df['date'] <= pd.to_datetime(ending_date))]\n",
    "    filtered_by_ticker = filtered_by_date_range[\n",
    "        filtered_by_date_range['Ticker'].str.contains(segment, case=False) & \n",
    "        filtered_by_date_range['Ticker'].str.contains(index, case=False)]\n",
    "\n",
    "    # Validating each date in the range\n",
    "    date_exists = {date.strftime(\"%Y-%m-%d\"): date in filtered_by_date_range['date'].values for date in all_dates}\n",
    "\n",
    "    return filtered_by_ticker, date_exists\n",
    "\n",
    "# Inputs\n",
    "file_pattern = \"*_BACKADJUSTED_*.csv\"\n",
    "starting_date = input(\"Enter the starting date (YYYY-MM-DD): \")\n",
    "ending_date = input(\"Enter the ending date (YYYY-MM-DD): \")\n",
    "segment = input(\"Enter the segment (e.g., BFO/NFO/MCX): \")\n",
    "index = input(\"Enter the index (e.g., CRUDEOIL, GOLD): \")\n",
    "\n"
   ]
  },
  {
   "cell_type": "code",
   "execution_count": null,
   "id": "1650bdf5",
   "metadata": {},
   "outputs": [],
   "source": []
  },
  {
   "cell_type": "code",
   "execution_count": null,
   "id": "0d5ad638",
   "metadata": {},
   "outputs": [],
   "source": []
  },
  {
   "cell_type": "code",
   "execution_count": 13,
   "id": "1f560942",
   "metadata": {},
   "outputs": [
    {
     "name": "stdout",
     "output_type": "stream",
     "text": [
      "                         Ticker       date      Time   Close    Spot  Open  \\\n",
      "0       CRUDEOIL23APR4500PE.MCX 2023-04-12  09:02:59     3.0     0.0   NaN   \n",
      "1       CRUDEOIL23APR4500PE.MCX 2023-04-12  09:22:59     2.9     0.0   NaN   \n",
      "2       CRUDEOIL23APR4500PE.MCX 2023-04-12  09:26:59     2.7     0.0   NaN   \n",
      "3       CRUDEOIL23APR4500PE.MCX 2023-04-12  09:46:59     2.8     0.0   NaN   \n",
      "4       CRUDEOIL23APR4500PE.MCX 2023-04-12  09:53:59     2.8     0.0   NaN   \n",
      "...                         ...        ...       ...     ...     ...   ...   \n",
      "538508        CRUDEOILM-III.MCX 2023-04-17  23:06:59  6667.0  6700.0   NaN   \n",
      "538509        CRUDEOILM-III.MCX 2023-04-17  23:09:59  6663.0  6700.0   NaN   \n",
      "538510        CRUDEOILM-III.MCX 2023-04-17  23:16:59  6670.0  6700.0   NaN   \n",
      "538511        CRUDEOILM-III.MCX 2023-04-17  23:17:59  6671.0  6700.0   NaN   \n",
      "538512        CRUDEOILM-III.MCX 2023-04-17  23:27:59  6663.0  6700.0   NaN   \n",
      "\n",
      "        High  Low  Volume  Open Interest  Unnamed: 9  Unnamed: 10  Unnamed: 11  \n",
      "0        NaN  NaN     NaN            NaN         NaN          NaN          NaN  \n",
      "1        NaN  NaN     NaN            NaN         NaN          NaN          NaN  \n",
      "2        NaN  NaN     NaN            NaN         NaN          NaN          NaN  \n",
      "3        NaN  NaN     NaN            NaN         NaN          NaN          NaN  \n",
      "4        NaN  NaN     NaN            NaN         NaN          NaN          NaN  \n",
      "...      ...  ...     ...            ...         ...          ...          ...  \n",
      "538508   NaN  NaN     NaN            NaN         NaN          NaN          NaN  \n",
      "538509   NaN  NaN     NaN            NaN         NaN          NaN          NaN  \n",
      "538510   NaN  NaN     NaN            NaN         NaN          NaN          NaN  \n",
      "538511   NaN  NaN     NaN            NaN         NaN          NaN          NaN  \n",
      "538512   NaN  NaN     NaN            NaN         NaN          NaN          NaN  \n",
      "\n",
      "[464626 rows x 13 columns]\n",
      "Date Existence Check:\n",
      "2023-04-03: Exists\n",
      "2023-04-04: Exists\n",
      "2023-04-05: Exists\n",
      "2023-04-06: Exists\n",
      "2023-04-07: Does not exist\n",
      "2023-04-08: Does not exist\n",
      "2023-04-09: Does not exist\n",
      "2023-04-10: Exists\n",
      "2023-04-11: Exists\n",
      "2023-04-12: Exists\n",
      "2023-04-13: Exists\n",
      "2023-04-14: Exists\n",
      "2023-04-15: Does not exist\n",
      "2023-04-16: Does not exist\n",
      "2023-04-17: Exists\n",
      "2023-04-18: Exists\n",
      "2023-04-19: Exists\n",
      "2023-04-20: Exists\n",
      "2023-04-21: Exists\n",
      "2023-04-22: Does not exist\n",
      "2023-04-23: Does not exist\n",
      "2023-04-24: Exists\n",
      "2023-04-25: Exists\n",
      "2023-04-26: Exists\n",
      "2023-04-27: Exists\n",
      "2023-04-28: Exists\n",
      "2023-04-29: Does not exist\n",
      "2023-04-30: Does not exist\n"
     ]
    }
   ],
   "source": [
    "# Function execution to get Filtered Data\n",
    "data, date_check = filter_and_validate_dates(file_pattern, starting_date, ending_date, segment, index)\n",
    "\n",
    "print(data)\n",
    "print(\"Date Existence Check:\")\n",
    "for date, exists in date_check.items():\n",
    "    print(f\"{date}: {'Exists' if exists else 'Does not exist'}\")"
   ]
  },
  {
   "cell_type": "code",
   "execution_count": null,
   "id": "74f445fe",
   "metadata": {},
   "outputs": [],
   "source": []
  },
  {
   "cell_type": "code",
   "execution_count": 14,
   "id": "b1479384",
   "metadata": {
    "scrolled": true
   },
   "outputs": [
    {
     "name": "stdout",
     "output_type": "stream",
     "text": [
      "Existing Dates:\n",
      "['2023-04-03', '2023-04-04', '2023-04-05', '2023-04-06', '2023-04-10', '2023-04-11', '2023-04-12', '2023-04-13', '2023-04-14', '2023-04-17', '2023-04-18', '2023-04-19', '2023-04-20', '2023-04-21', '2023-04-24', '2023-04-25', '2023-04-26', '2023-04-27', '2023-04-28']\n"
     ]
    }
   ],
   "source": [
    "# Creating a list of dates where data exists\n",
    "existing_dates = [date for date, exists in date_check.items() if exists]\n",
    "\n",
    "# Printing the list of existing dates\n",
    "print(\"Existing Dates:\")\n",
    "print(existing_dates)\n"
   ]
  },
  {
   "cell_type": "code",
   "execution_count": null,
   "id": "1194dbcb",
   "metadata": {},
   "outputs": [],
   "source": []
  },
  {
   "cell_type": "code",
   "execution_count": null,
   "id": "f8b547bb",
   "metadata": {},
   "outputs": [],
   "source": []
  },
  {
   "cell_type": "code",
   "execution_count": 21,
   "id": "3861bc0f",
   "metadata": {},
   "outputs": [
    {
     "name": "stderr",
     "output_type": "stream",
     "text": [
      "/var/folders/xm/_6m30k1j1kbgb2ps1nz6t4d00000gn/T/ipykernel_58856/503444725.py:19: UserWarning: This pattern is interpreted as a regular expression, and has match groups. To actually get the groups, use str.extract.\n",
      "  filtered_by_ticker = data[data['Ticker'].str.contains(regex_pattern, case=False, regex=True)]\n"
     ]
    },
    {
     "name": "stdout",
     "output_type": "stream",
     "text": [
      "{datetime.datetime(2023, 5, 23, 0, 0), datetime.datetime(2023, 6, 23, 0, 0), datetime.datetime(2023, 4, 23, 0, 0)}\n",
      "{datetime.datetime(2023, 5, 23, 0, 0), datetime.datetime(2023, 6, 23, 0, 0), datetime.datetime(2023, 4, 23, 0, 0)}\n",
      "{datetime.datetime(2023, 5, 23, 0, 0), datetime.datetime(2023, 6, 23, 0, 0), datetime.datetime(2023, 4, 23, 0, 0)}\n",
      "{datetime.datetime(2023, 5, 23, 0, 0), datetime.datetime(2023, 6, 23, 0, 0), datetime.datetime(2023, 4, 23, 0, 0)}\n",
      "{datetime.datetime(2023, 5, 23, 0, 0), datetime.datetime(2023, 6, 23, 0, 0), datetime.datetime(2023, 4, 23, 0, 0)}\n",
      "{datetime.datetime(2023, 5, 23, 0, 0), datetime.datetime(2023, 6, 23, 0, 0), datetime.datetime(2023, 4, 23, 0, 0)}\n",
      "{datetime.datetime(2023, 5, 23, 0, 0), datetime.datetime(2023, 6, 23, 0, 0), datetime.datetime(2023, 4, 23, 0, 0)}\n",
      "{datetime.datetime(2023, 5, 23, 0, 0), datetime.datetime(2023, 6, 23, 0, 0), datetime.datetime(2023, 4, 23, 0, 0)}\n",
      "{datetime.datetime(2023, 5, 23, 0, 0), datetime.datetime(2023, 6, 23, 0, 0), datetime.datetime(2023, 4, 23, 0, 0)}\n",
      "{datetime.datetime(2023, 5, 23, 0, 0), datetime.datetime(2023, 6, 23, 0, 0), datetime.datetime(2023, 4, 23, 0, 0)}\n",
      "{datetime.datetime(2023, 5, 23, 0, 0), datetime.datetime(2023, 6, 23, 0, 0), datetime.datetime(2023, 4, 23, 0, 0)}\n",
      "{datetime.datetime(2023, 5, 23, 0, 0), datetime.datetime(2023, 6, 23, 0, 0), datetime.datetime(2023, 4, 23, 0, 0)}\n",
      "{datetime.datetime(2023, 5, 23, 0, 0), datetime.datetime(2023, 6, 23, 0, 0), datetime.datetime(2023, 4, 23, 0, 0)}\n",
      "{datetime.datetime(2023, 5, 23, 0, 0), datetime.datetime(2023, 6, 23, 0, 0), datetime.datetime(2023, 4, 23, 0, 0)}\n",
      "{datetime.datetime(2023, 5, 23, 0, 0), datetime.datetime(2023, 6, 23, 0, 0)}\n",
      "{datetime.datetime(2023, 5, 23, 0, 0), datetime.datetime(2023, 6, 23, 0, 0)}\n",
      "{datetime.datetime(2023, 5, 23, 0, 0), datetime.datetime(2023, 6, 23, 0, 0)}\n",
      "{datetime.datetime(2023, 5, 23, 0, 0), datetime.datetime(2023, 6, 23, 0, 0)}\n",
      "{datetime.datetime(2023, 5, 23, 0, 0), datetime.datetime(2023, 6, 23, 0, 0)}\n",
      "\n",
      "All Expiry Dates:\n",
      "2023-04-03: ['2023-04-23', '2023-05-23', '2023-06-23']\n",
      "2023-04-04: ['2023-04-23', '2023-05-23', '2023-06-23']\n",
      "2023-04-05: ['2023-04-23', '2023-05-23', '2023-06-23']\n",
      "2023-04-06: ['2023-04-23', '2023-05-23', '2023-06-23']\n",
      "2023-04-10: ['2023-04-23', '2023-05-23', '2023-06-23']\n",
      "2023-04-11: ['2023-04-23', '2023-05-23', '2023-06-23']\n",
      "2023-04-12: ['2023-04-23', '2023-05-23', '2023-06-23']\n",
      "2023-04-13: ['2023-04-23', '2023-05-23', '2023-06-23']\n",
      "2023-04-14: ['2023-04-23', '2023-05-23', '2023-06-23']\n",
      "2023-04-17: ['2023-04-23', '2023-05-23', '2023-06-23']\n",
      "2023-04-18: ['2023-04-23', '2023-05-23', '2023-06-23']\n",
      "2023-04-19: ['2023-04-23', '2023-05-23', '2023-06-23']\n",
      "2023-04-20: ['2023-04-23', '2023-05-23', '2023-06-23']\n",
      "2023-04-21: ['2023-04-23', '2023-05-23', '2023-06-23']\n",
      "2023-04-24: ['2023-05-23', '2023-06-23']\n",
      "2023-04-25: ['2023-05-23', '2023-06-23']\n",
      "2023-04-26: ['2023-05-23', '2023-06-23']\n",
      "2023-04-27: ['2023-05-23', '2023-06-23']\n",
      "2023-04-28: ['2023-05-23', '2023-06-23']\n"
     ]
    }
   ],
   "source": [
    "from datetime import datetime\n",
    "import pandas as pd\n",
    "import re  \n",
    "\n",
    "months = {\n",
    "    \"JAN\": 1, \"FEB\": 2, \"MAR\": 3, \"APR\": 4,\n",
    "    \"MAY\": 5, \"JUN\": 6, \"JUL\": 7, \"AUG\": 8,\n",
    "    \"SEP\": 9, \"OCT\": 10, \"NOV\": 11, \"DEC\": 12\n",
    "}\n",
    "\n",
    "\n",
    "# Assuming this is the function from previous examples\n",
    "def get_all_expiry_dates(data, input_date, index, segment):\n",
    "    input_date_obj = datetime.strptime(input_date, \"%Y-%m-%d\")\n",
    "    year = input_date_obj.year\n",
    "#     month_abbr = input_date_obj.strftime(\"%b\").upper()\n",
    "#     regex_pattern = f\"{index}(\\d{{2}}){month_abbr}.*?\\.{segment}\"\n",
    "    regex_pattern = f\"{index}(\\d{{2}}).*?\\.{segment}\"\n",
    "    filtered_by_ticker = data[data['Ticker'].str.contains(regex_pattern, case=False, regex=True)]\n",
    "    expiry_days = set()\n",
    "    \n",
    "#     print(filtered_by_ticker['Ticker'])\n",
    "    delta=12-input_date_obj.month\n",
    "    for ticker in filtered_by_ticker['Ticker']:\n",
    "        try:\n",
    "#         match = re.search(f\"{index}(\\d{{2}}){month_abbr}\", ticker)\n",
    "\n",
    "#         match = re.search(f\"{index}(\\d{{2}})\", ticker)\n",
    "          match = ticker.split(index)[1][:5]\n",
    "          day_str = match[:2]\n",
    "          month_str = match[2:]\n",
    "          \n",
    "          expiry_date = datetime(year,months[month_str],int(day_str) )\n",
    "#           if(input_date_obj.month==months[month_str]):\n",
    "#                 expiry_days.add(expiry_date)\n",
    "#           elif((expiry_date-input_date_obj).days >=0):\n",
    "#                 expiry_days.add(expiry_date)\n",
    "                \n",
    "         # if we want just next\n",
    "          if((expiry_date-input_date_obj).days >=0):\n",
    "                expiry_days.add(expiry_date)\n",
    "        except ValueError:\n",
    "            continue\n",
    "\n",
    "\n",
    "    return sorted(expiry_days)\n",
    "\n",
    "\n",
    "# Dictionary to store expiry dates for each date\n",
    "all_expiry_dates = {}\n",
    "\n",
    "# Loop through each existing date and fetch expiry dates\n",
    "for date in existing_dates:\n",
    "    expiries = get_all_expiry_dates(data, date, index, segment)\n",
    "    all_expiry_dates[date] = [expiry_date.strftime(\"%Y-%m-%d\") for expiry_date in expiries]\n",
    "\n",
    "# Printing all expiry dates for each date\n",
    "print(\"\\nAll Expiry Dates:\")\n",
    "for date, expiries in all_expiry_dates.items():\n",
    "    print(f\"{date}: {expiries}\") "
   ]
  },
  {
   "cell_type": "code",
   "execution_count": null,
   "id": "d629b9b5",
   "metadata": {},
   "outputs": [],
   "source": []
  },
  {
   "cell_type": "code",
   "execution_count": null,
   "id": "21ad4f1c",
   "metadata": {},
   "outputs": [],
   "source": []
  },
  {
   "cell_type": "code",
   "execution_count": null,
   "id": "ffbf9ab2",
   "metadata": {},
   "outputs": [],
   "source": []
  },
  {
   "cell_type": "code",
   "execution_count": null,
   "id": "af3a81df",
   "metadata": {},
   "outputs": [],
   "source": []
  },
  {
   "cell_type": "code",
   "execution_count": null,
   "id": "3bdb9645",
   "metadata": {},
   "outputs": [],
   "source": []
  },
  {
   "cell_type": "code",
   "execution_count": null,
   "id": "1e2be028",
   "metadata": {},
   "outputs": [],
   "source": []
  },
  {
   "cell_type": "code",
   "execution_count": null,
   "id": "26d45573",
   "metadata": {},
   "outputs": [],
   "source": []
  },
  {
   "cell_type": "code",
   "execution_count": null,
   "id": "5c40f37d",
   "metadata": {},
   "outputs": [],
   "source": []
  },
  {
   "cell_type": "code",
   "execution_count": 25,
   "id": "31ad2f45",
   "metadata": {},
   "outputs": [
    {
     "data": {
      "text/plain": [
       "{('23', 'APR'), ('23', 'JUN'), ('23', 'MAY')}"
      ]
     },
     "execution_count": 25,
     "metadata": {},
     "output_type": "execute_result"
    }
   ],
   "source": [
    "# Re-importing the necessary module and redefining the function as the execution state was reset\n",
    "import re\n",
    "\n",
    "# Load the dataset again\n",
    "data_path = '/mnt/data/GFDLMCX_BACKADJUSTED_03042023 2.csv'\n",
    "data = pd.read_csv(data_path)\n",
    "\n",
    "# Redefine the function to specifically target CRUDEOIL index and MCX segment with adjusted criteria\n",
    "def extract_crudeoil_date_month(ticker):\n",
    "    # Check for specific index and segment\n",
    "    if \"CRUDEOIL\" in ticker and ticker.endswith(\".MCX\"):\n",
    "        # The expected format is CRUDEOIL{date}{month}{selected_strike}{option_type}.MCX\n",
    "        # Example: CRUDEOIL23APR4500PE.MCX\n",
    "        # Strip away the index and segment parts to isolate the middle portion\n",
    "        main_part = ticker.replace(\"CRUDEOIL\", \"\").replace(\".MCX\", \"\")\n",
    "        # Use regex to find the pattern {date}{month}{selected_strike}{option_type}\n",
    "        match = re.search(r'(\\d{2})([A-Z]{3})\\d{4}(CE|PE)', main_part)\n",
    "        if match:\n",
    "            # Extract the date and month from the match groups\n",
    "            date = match.group(1)\n",
    "            month = match.group(2)\n",
    "            return date, month\n",
    "    return None\n",
    "\n",
    "# Apply the adjusted function to all tickers in the dataset\n",
    "crudeoil_date_month = [extract_crudeoil_date_month(ticker) for ticker in data['Ticker']]\n",
    "# Get unique date and month combinations\n",
    "unique_crudeoil_date_month = set([dm for dm in crudeoil_date_month if dm is not None])\n",
    "unique_crudeoil_date_month\n"
   ]
  },
  {
   "cell_type": "code",
   "execution_count": 26,
   "id": "dd7b620b",
   "metadata": {},
   "outputs": [],
   "source": [
    "# Updated function to extract and verify date-month pairs against a list of existing dates\n",
    "def extract_date_month(ticker, index, segment, existing_dates):\n",
    "    if ticker.startswith(index) and ticker.endswith(segment):\n",
    "        main_part = ticker[len(index):-len(segment)-1]  # Exclude the dot in the segment\n",
    "        match = re.search(r'(\\d{2})([A-Z]{3})\\d{4}(CE|PE)', main_part)\n",
    "        if match:\n",
    "            day = int(match.group(1))\n",
    "            month = match.group(2)\n",
    "            year = datetime.now().year  # Assuming current year; adjust as necessary\n",
    "            ticker_date_str = f\"{year}-{month}-{day:02d}\"\n",
    "            ticker_date = datetime.strptime(ticker_date_str, \"%Y-%b-%d\")\n",
    "            \n",
    "            # Check if ticker_date is in the list of existing dates\n",
    "            if ticker_date in existing_dates:\n",
    "                return (day, month)\n",
    "    return None"
   ]
  },
  {
   "cell_type": "code",
   "execution_count": 30,
   "id": "a36fcc9f",
   "metadata": {},
   "outputs": [
    {
     "name": "stdout",
     "output_type": "stream",
     "text": [
      "{('23', 'MAY'), ('23', 'APR')}\n"
     ]
    }
   ],
   "source": [
    "import pandas as pd\n",
    "import re\n",
    "from datetime import datetime\n",
    "\n",
    "# Load the dataset\n",
    "data_path = 'GFDLMCX_BACKADJUSTED_03042023 2.csv'\n",
    "data = pd.read_csv(data_path)\n",
    "\n",
    "\n",
    "# Generalized function to extract date and month from a ticker string based on given index and segment\n",
    "def extract_date_month(ticker, index, segment):\n",
    "    # Format is {index}{date}{month}{selected_strike}{option_type}.{segment}\n",
    "    # Example: CRUDEOIL23APR4500PE.MCX\n",
    "    if ticker.startswith(index) and ticker.endswith(segment):\n",
    "        # Remove index and segment to isolate the middle portion\n",
    "        main_part = ticker[len(index):-len(segment)-1]  # Exclude the dot in the segment\n",
    "        # Regex to find the pattern {date}{month}{selected_strike}{option_type}\n",
    "        match = re.search(r'(\\d{2})([A-Z]{3})\\d{4}(CE|PE)', main_part)\n",
    "        if match:\n",
    "            # Extract the date and month\n",
    "            date = match.group(1)\n",
    "            month = match.group(2)\n",
    "            return date, month\n",
    "    return None\n",
    "\n",
    "# Example usage: extracting dates and months for CRUDEOIL tickers in the MCX segment\n",
    "date_month_info = [extract_date_month(ticker, index, segment) for ticker in data['Ticker']]\n",
    "unique_date_month_info = set([info for info in date_month_info if info is not None])\n",
    "\n",
    "# Displaying unique date and month combinations\n",
    "print(unique_date_month_info)\n"
   ]
  },
  {
   "cell_type": "code",
   "execution_count": 31,
   "id": "ffa40461",
   "metadata": {},
   "outputs": [
    {
     "name": "stdout",
     "output_type": "stream",
     "text": [
      "set()\n"
     ]
    }
   ],
   "source": [
    "import pandas as pd\n",
    "import re\n",
    "from datetime import datetime\n",
    "\n",
    "# Generalized function to extract date and month from a ticker string based on given index, segment, and date check\n",
    "def extract_date_month(ticker, index, segment, existing_dates):\n",
    "    # Format is {index}{date}{month}{selected_strike}{option_type}.{segment}\n",
    "    # Example: CRUDEOIL23APR4500PE.MCX\n",
    "    if ticker.startswith(index) and ticker.endswith(segment):\n",
    "        # Remove index and segment to isolate the middle portion\n",
    "        main_part = ticker[len(index):-len(segment)-1]  # Exclude the dot in the segment\n",
    "        # Regex to find the pattern {date}{month}{selected_strike}{option_type}\n",
    "        match = re.search(r'(\\d{2})([A-Z]{3})\\d{4}(CE|PE)', main_part)\n",
    "        if match:\n",
    "            # Extract the date and month\n",
    "            day = int(match.group(1))\n",
    "            month = match.group(2)\n",
    "            year = datetime.now().year  # Assuming current year; adjust as necessary if required\n",
    "            # Create a datetime object to compare against existing_dates\n",
    "            extracted_date = datetime.strptime(f\"{day} {month} {year}\", \"%d %b %Y\")\n",
    "\n",
    "            # Check if extracted_date is in the list of existing dates\n",
    "            if extracted_date in existing_dates:\n",
    "                return day, month\n",
    "    return None\n",
    "\n",
    "date_month_info = [extract_date_month(ticker, index, segment, existing_dates) for ticker in data['Ticker']]\n",
    "unique_date_month_info = set([info for info in date_month_info if info is not None])\n",
    "\n",
    "# Displaying unique date and month combinations that match the existing dates\n",
    "print(unique_date_month_info)\n"
   ]
  },
  {
   "cell_type": "code",
   "execution_count": null,
   "id": "5e28ea07",
   "metadata": {},
   "outputs": [],
   "source": []
  },
  {
   "cell_type": "markdown",
   "id": "8d0d8ed3",
   "metadata": {},
   "source": [
    "now we will create a function which take date which Exists, segment, index, expiry type, DTE {for monthly/weekly} \n",
    "\n",
    "if daily expiry then see ticker named \n",
    "\n",
    "\n"
   ]
  },
  {
   "cell_type": "markdown",
   "id": "86283d87",
   "metadata": {},
   "source": [
    "filtered_date_to_work = f(existing_date, type_of_expiry, DTE)\n",
    "\n",
    "if type_of_expiry is daily:\n",
    "   Date is existing_date and Ticker Date consists of string existing_date {in daily DTE is not defined}\n",
    "   \n",
    "if type_of_expiry is weekly:\n",
    "   put that existing_date inside a function which tell me all existing expiry of that month then see what week we need to work like week 1 , week 2 then we will also take DTE as input also i.e. week 1 DTE 1 means we need to go to week 1 then go to "
   ]
  },
  {
   "cell_type": "markdown",
   "id": "fc7dbc2b",
   "metadata": {},
   "source": [
    "all_expiry_of_month = f(one of existing_date)\n",
    "   This function tell me all expiry of this month\n",
    "   \n",
    "Make a List of Existing Date\n",
    "2023-04-03: Exists\n",
    "2023-04-04: Exists\n",
    "2023-04-05: Exists\n",
    "2023-04-06: Exists\n",
    "2023-04-07: Does not exist\n",
    "2023-04-08: Does not exist\n",
    "2023-04-09: Does not exist\n",
    "\n",
    "and convert to \n",
    "2023-04-03: Exists\n",
    "2023-04-04: Exists\n",
    "2023-04-05: Exists\n",
    "2023-04-06: Exists\n",
    "\n",
    "Take input of type_of_expiry, DTE\n",
    "\n",
    "example:\n",
    "  if type_of_expiry is Daily then we will see our all_expiry_of_month and find nearest element to this date ... \"date in expiry - daily date\" should be min ...store that date in ticker_date list\n",
    "  \n",
    "  if type_of_expiry is Weekly we will do a + DTE to the input Date in our List and see if the Date we get to is same as that week expiry or Not, if not we will move to next possible existing date else if we we will store that date in ticker_date list\n",
    "\n"
   ]
  },
  {
   "cell_type": "code",
   "execution_count": null,
   "id": "19a77f54",
   "metadata": {},
   "outputs": [],
   "source": []
  },
  {
   "cell_type": "code",
   "execution_count": null,
   "id": "02017333",
   "metadata": {},
   "outputs": [],
   "source": []
  }
 ],
 "metadata": {
  "kernelspec": {
   "display_name": "Python 3 (ipykernel)",
   "language": "python",
   "name": "python3"
  },
  "language_info": {
   "codemirror_mode": {
    "name": "ipython",
    "version": 3
   },
   "file_extension": ".py",
   "mimetype": "text/x-python",
   "name": "python",
   "nbconvert_exporter": "python",
   "pygments_lexer": "ipython3",
   "version": "3.10.13"
  }
 },
 "nbformat": 4,
 "nbformat_minor": 5
}
